{
 "cells": [
  {
   "cell_type": "code",
   "execution_count": 481,
   "metadata": {
    "collapsed": true
   },
   "outputs": [],
   "source": [
    "from bs4 import BeautifulSoup\n",
    "from bs4 import Comment\n",
    "import urllib.request"
   ]
  },
  {
   "cell_type": "code",
   "execution_count": 482,
   "metadata": {},
   "outputs": [],
   "source": [
    "class FoodItem:\n",
    "    def __init__(self, name, price, description, menuGroup):\n",
    "        self.name = name\n",
    "        self.price = price\n",
    "        self.description = description\n",
    "        self.menuGroup = menuGroup\n",
    "\n",
    "    def debugPrint(self):\n",
    "        print(self.name,' \\tCOST ',self.price, '\\n',self.description,'\\n', self.menuGroup)\n",
    "        print(' ---- ')"
   ]
  },
  {
   "cell_type": "code",
   "execution_count": 483,
   "metadata": {
    "collapsed": true
   },
   "outputs": [],
   "source": [
    "def loadInitialMenu(restaurantName):\n",
    "    restaurantName = '+'.join(restaurantName.split())\n",
    "    searchQuery = restaurantName + \"+\" + \"menu\"\n",
    "    url = \"https://www.bing.com/search?q=\" + searchQuery\n",
    "    response = urllib.request.urlopen(url)\n",
    "    return response.read()"
   ]
  },
  {
   "cell_type": "code",
   "execution_count": 485,
   "metadata": {},
   "outputs": [],
   "source": [
    "def parseInitialMenu(html):\n",
    "    soup = BeautifulSoup(html, 'html.parser')\n",
    "    # data we need is all in div with class \"b_ans b_top b_topborder\"\n",
    "    menuHtml = soup.find(\"li\", class_=\"b_ans b_top b_topborder\")\n",
    "\n",
    "    if menuHtml is None:\n",
    "        exit()\n",
    "    return menuHtml.find(\"div\", class_=\"tab-container\")\n",
    "\n",
    "def parseMenuGroups(menuHtml):\n",
    "    menuHeaders = menuHtml.find(\"div\", class_=\"tab-head\")\n",
    "    menuHeaders = menuHeaders.find(\"div\", class_=\"tab-menu tab-hasnav\")\n",
    "    menuHeaders = menuHeaders.find_all('li')\n",
    "    return [item.text for item in menuHeaders]\n",
    "\n",
    "menu = {}\n",
    "def parseMenuItems(menuHtml,menuHeaders,isInitial):\n",
    "\n",
    "    if isInitial:\n",
    "        startIndex = 0\n",
    "        menuContent  = menuHtml.find(\"div\", class_=\"tab-content\")\n",
    "        menuContent = menuContent.select('div[id^=\"tab_\"]')\n",
    "    else:\n",
    "        startIndex = 6\n",
    "        menuContent = menuHtml.select('div[id^=\"rcontent_\"]')\n",
    "\n",
    "\n",
    "    for i in range(startIndex,len(menuContent)):\n",
    "    # for i in range(0,3):\n",
    "        groupedItems = menuContent[i]\n",
    "        groupedItemsHtml = groupedItems.find_all('div',class_='tdif')\n",
    "        menuGroup = menuHeaders[i]\n",
    "        for item in groupedItemsHtml:\n",
    "            (name,price) = getItemNamePrice(item)\n",
    "            description = getItemDesc(item)\n",
    "\n",
    "            if name not in menu:\n",
    "                # notice how menuGroup parameter is a list\n",
    "                foodItem = FoodItem(name,price,description,[menuGroup])\n",
    "                menu[name] = foodItem\n",
    "            else:\n",
    "                foodItem = menu[name]\n",
    "                if menuGroup not in foodItem.menuGroup:\n",
    "                    foodItem.menuGroup.append(menuGroup)"
   ]
  },
  {
   "cell_type": "code",
   "execution_count": 486,
   "metadata": {},
   "outputs": [],
   "source": [
    "def getRestaurantId(html):\n",
    "    soup = BeautifulSoup(html, 'html.parser')\n",
    "    comments=soup.find_all(string=lambda text:isinstance(text,Comment))\n",
    "    for c in comments:\n",
    "        print(c)\n",
    "        print(\"===========\")\n",
    "\n",
    "    return 'YN925x203516883'\n",
    "\n",
    "def getTabCount(menuHeaders):\n",
    "    return len(menuHeaders)\n",
    "\n",
    "def loadAdditionalMenu(html):\n",
    "    id = getRestaurantId(html)\n",
    "    tabCount = getTabCount(html)\n",
    "    url = 'https://www.bing.com/local/menu?tabCount=' + str(tabCount) + '&tabStart=6&othersTab=0&ypid='+ id\n",
    "    response = urllib.request.urlopen(url)\n",
    "    return response.read()\n",
    "\n",
    "def parseAdditionalMenu(html,menuHeaders):\n",
    "    additionalHtml = loadAdditionalMenu(html)\n",
    "    soup = BeautifulSoup(additionalHtml, 'html.parser')\n",
    "    parseMenuItems(soup,menuHeaders,isInitial=False)"
   ]
  },
  {
   "cell_type": "code",
   "execution_count": 488,
   "metadata": {
    "collapsed": true
   },
   "outputs": [],
   "source": [
    ""
   ]
  },
  {
   "cell_type": "code",
   "execution_count": 488,
   "metadata": {},
   "outputs": [],
   "source": [
    "def getItemNamePrice(item):\n",
    "    itemName = ''\n",
    "    itemPrice = ''\n",
    "    h4 = item.find('h4')\n",
    "    if h4:\n",
    "        if len(h4.contents) > 0:\n",
    "            itemName = h4.contents[0]\n",
    "        if len(h4.contents) > 1:\n",
    "            itemPrice = h4.contents[1].contents[0]\n",
    "    return itemName, itemPrice\n",
    "\n",
    "def getItemDesc(item):\n",
    "    itemDescription = ''\n",
    "    span = item.find('span',class_='b_demoteText')\n",
    "\n",
    "    if span and len(span.contents) > 0:\n",
    "        itemDescription = span.contents[0]\n",
    "    return itemDescription"
   ]
  },
  {
   "cell_type": "code",
   "execution_count": 489,
   "metadata": {
    "collapsed": true
   },
   "outputs": [],
   "source": [
    "html = loadInitialMenu('palomino')"
   ]
  },
  {
   "cell_type": "code",
   "execution_count": 490,
   "metadata": {},
   "outputs": [],
   "source": [
    "menuHtml = parseInitialMenu(html)\n",
    "menuHeaders = parseMenuGroups(menuHtml)\n",
    "parseMenuItems(menuHtml, menuHeaders, isInitial=True)"
   ]
  },
  {
   "cell_type": "code",
   "execution_count": 457,
   "metadata": {
    "collapsed": true
   },
   "outputs": [
    {
     "ename": "IndexError",
     "evalue": "list index out of range",
     "traceback": [
      "\u001b[0;31m---------------------------------------------------------------------------\u001b[0m",
      "\u001b[0;31mIndexError\u001b[0m                                Traceback (most recent call last)",
      "\u001b[0;32m<ipython-input-457-895323551f60>\u001b[0m in \u001b[0;36m<module>\u001b[0;34m()\u001b[0m\n\u001b[0;32m----> 1\u001b[0;31m \u001b[0mparseAdditionalMenu\u001b[0m\u001b[0;34m(\u001b[0m\u001b[0mhtml\u001b[0m\u001b[0;34m,\u001b[0m\u001b[0mmenuHeaders\u001b[0m\u001b[0;34m)\u001b[0m\u001b[0;34m\u001b[0m\u001b[0m\n\u001b[0m",
      "\u001b[0;32m<ipython-input-452-b5969ef13b89>\u001b[0m in \u001b[0;36mparseAdditionalMenu\u001b[0;34m(html, menuHeaders)\u001b[0m\n\u001b[1;32m     15\u001b[0m     \u001b[0madditionalHtml\u001b[0m \u001b[0;34m=\u001b[0m \u001b[0mloadAdditionalMenu\u001b[0m\u001b[0;34m(\u001b[0m\u001b[0mhtml\u001b[0m\u001b[0;34m)\u001b[0m\u001b[0;34m\u001b[0m\u001b[0m\n\u001b[1;32m     16\u001b[0m     \u001b[0msoup\u001b[0m \u001b[0;34m=\u001b[0m \u001b[0mBeautifulSoup\u001b[0m\u001b[0;34m(\u001b[0m\u001b[0madditionalHtml\u001b[0m\u001b[0;34m,\u001b[0m \u001b[0;34m'html.parser'\u001b[0m\u001b[0;34m)\u001b[0m\u001b[0;34m\u001b[0m\u001b[0m\n\u001b[0;32m---> 17\u001b[0;31m     \u001b[0mparseMenuItems\u001b[0m\u001b[0;34m(\u001b[0m\u001b[0msoup\u001b[0m\u001b[0;34m,\u001b[0m\u001b[0mmenuHeaders\u001b[0m\u001b[0;34m,\u001b[0m\u001b[0misInitial\u001b[0m\u001b[0;34m=\u001b[0m\u001b[0;32mFalse\u001b[0m\u001b[0;34m)\u001b[0m\u001b[0;34m\u001b[0m\u001b[0m\n\u001b[0m",
      "\u001b[0;32m<ipython-input-450-f7512892cd54>\u001b[0m in \u001b[0;36mparseMenuItems\u001b[0;34m(menuHtml, menuHeaders, isInitial)\u001b[0m\n\u001b[1;32m     30\u001b[0m         \u001b[0mgroupedItems\u001b[0m \u001b[0;34m=\u001b[0m \u001b[0mmenuContent\u001b[0m\u001b[0;34m[\u001b[0m\u001b[0mi\u001b[0m\u001b[0;34m]\u001b[0m\u001b[0;34m\u001b[0m\u001b[0m\n\u001b[1;32m     31\u001b[0m         \u001b[0mgroupedItemsHtml\u001b[0m \u001b[0;34m=\u001b[0m \u001b[0mgroupedItems\u001b[0m\u001b[0;34m.\u001b[0m\u001b[0mfind_all\u001b[0m\u001b[0;34m(\u001b[0m\u001b[0;34m'div'\u001b[0m\u001b[0;34m,\u001b[0m\u001b[0mclass_\u001b[0m\u001b[0;34m=\u001b[0m\u001b[0;34m'tdif'\u001b[0m\u001b[0;34m)\u001b[0m\u001b[0;34m\u001b[0m\u001b[0m\n\u001b[0;32m---> 32\u001b[0;31m         \u001b[0mmenuGroup\u001b[0m \u001b[0;34m=\u001b[0m \u001b[0mmenuHeaders\u001b[0m\u001b[0;34m[\u001b[0m\u001b[0mi\u001b[0m\u001b[0;34m]\u001b[0m\u001b[0;34m\u001b[0m\u001b[0m\n\u001b[0m\u001b[1;32m     33\u001b[0m         \u001b[0;32mfor\u001b[0m \u001b[0mitem\u001b[0m \u001b[0;32min\u001b[0m \u001b[0mgroupedItemsHtml\u001b[0m\u001b[0;34m:\u001b[0m\u001b[0;34m\u001b[0m\u001b[0m\n\u001b[1;32m     34\u001b[0m             \u001b[0;34m(\u001b[0m\u001b[0mname\u001b[0m\u001b[0;34m,\u001b[0m\u001b[0mprice\u001b[0m\u001b[0;34m)\u001b[0m \u001b[0;34m=\u001b[0m \u001b[0mgetItemNamePrice\u001b[0m\u001b[0;34m(\u001b[0m\u001b[0mitem\u001b[0m\u001b[0;34m)\u001b[0m\u001b[0;34m\u001b[0m\u001b[0m\n",
      "\u001b[0;31mIndexError\u001b[0m: list index out of range"
     ],
     "output_type": "error"
    }
   ],
   "source": [
    "# parseAdditionalMenu(html,menuHeaders)"
   ]
  },
  {
   "cell_type": "code",
   "execution_count": 491,
   "metadata": {
    "collapsed": true
   },
   "outputs": [
    {
     "name": "stdout",
     "output_type": "stream",
     "text": [
      "The Chop Chop  \tCOST   \n Rotisserie turkey, wine salami, provolone, balsamic vinaigrette \n ['Dinner Soup & Salads']\n ---- \nNone\nRainbow Carrots - Chimichurri, Aged Balsamic, Creme Fraiche  \tCOST  $7.00 \n  \n ['Dinner Vegetables']\n ---- \nNone\nSeafood Louie  \tCOST  $23.00 \n Crab, poached prawns, avocado, asparagus \n ['Dinner Soup & Salads']\n ---- \nNone\nPortabella Mushroom Fries  \tCOST  $6.00 \n Dijon aioli, truffle salt \n ['Dinner Shared Plates']\n ---- \nNone\nTomato-Basil Bruschetta  \tCOST  $9.00 \n Herb oil, roma tomatoes, pesto \n ['Dinner Breads']\n ---- \nNone\nCitrus Salad  \tCOST  $9.00 \n Belgian endive, grapefruit & oranges, bacon, avocado cream, aged red wine vinaigrette \n ['Dinner Soup & Salads']\n ---- \nNone\nGrilled Mushroom Salad  \tCOST  $7.95 \n Food Specials \n ['Menu Favorites']\n ---- \nNone\nOrganic Field Greens  \tCOST  $7.50 \n Cypress grove chevre, pumpkin seeds, evoo \n ['Dinner Soup & Salads']\n ---- \nNone\nMaple Marinated Chicken Salad  \tCOST  $20.00 \n Pecan-crusted blue cheese, pears, maple vinaigrette \n ['Dinner Soup & Salads']\n ---- \nNone\nSicilian Meatballs  \tCOST  $9.00 \n Citrus cheese, pistachios \n ['Dinner Shared Plates']\n ---- \nNone\nMaytag Blue Cheese Salad  \tCOST  $8.50 \n Romaine hearts, bacon, roma tomatoes, toasted hazelnuts \n ['Dinner Soup & Salads']\n ---- \nNone\nCrab Cakes  \tCOST  $15.00 \n (Shared Plates) Arugula, smoked pepper aioli, dijon aioli \n ['Menu Favorites', 'Dinner Shared Plates']\n ---- \nNone\nChop Chop  \tCOST  $13.50 \n Rustico Lunch Pairings \n ['Menu Favorites']\n ---- \nNone\nCrisp Calamari  \tCOST  $13.00 \n Hot chiles, smoked pepper aioli, marinara \n ['Dinner Shared Plates']\n ---- \nNone\nPancetta & Gorgonzola Scones  \tCOST  $5.00 \n Orange fig jam \n ['Dinner Breads']\n ---- \nNone\nBrussels Sprouts & Pancetta  \tCOST  $7.00 \n Vanilla butter \n ['Dinner Vegetables']\n ---- \nNone\nCaramelized Cauliflower  \tCOST  $5.00 \n Fresh herbs, evoo, herbed mascarpone \n ['Dinner Vegetables']\n ---- \nNone\nCaesar Salad  \tCOST  $8.00 \n Parmigiano reggiano, garlic croutons \n ['Dinner Soup & Salads']\n ---- \nNone\nGrilled Flatbread W/Moroccan Hummus  \tCOST  $5.00 \n Olive oil, curry \n ['Dinner Breads']\n ---- \nNone\nWarm Marble Potato Salad  \tCOST  $6.00 \n Chorizo, chopped egg, dijon, pecorino romano, dill \n ['Dinner Vegetables']\n ---- \nNone\nPortabella Mushroom Soup  \tCOST  $8.00 \n  \n ['Dinner Soup & Salads']\n ---- \nNone\nCrab & Artichoke Dip  \tCOST  $15.00 \n (Food Specials, Shared Plates) Flatbread crisps \n ['Menu Favorites', 'Dinner Shared Plates']\n ---- \nNone\nChicken Parmesan  \tCOST  $19.00 \n (Meat, Poultry & Rotisserie, Signature Selections) Fresh mozz, parmigiano reggiano, capellini, marinara \n ['Menu Favorites']\n ---- \nNone\n"
     ]
    }
   ],
   "source": [
    "for item in menu:\n",
    "    print(menu[item].debugPrint())"
   ]
  },
  {
   "cell_type": "code",
   "execution_count": 493,
   "metadata": {
    "collapsed": true
   },
   "outputs": [],
   "source": [
    ""
   ]
  }
 ],
 "metadata": {
  "kernelspec": {
   "display_name": "Python 2",
   "language": "python",
   "name": "python2"
  },
  "language_info": {
   "codemirror_mode": {
    "name": "ipython",
    "version": 2.0
   },
   "file_extension": ".py",
   "mimetype": "text/x-python",
   "name": "python",
   "nbconvert_exporter": "python",
   "pygments_lexer": "ipython2",
   "version": "2.7.6"
  }
 },
 "nbformat": 4,
 "nbformat_minor": 0
}