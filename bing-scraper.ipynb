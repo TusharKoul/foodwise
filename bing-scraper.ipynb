{
 "cells": [
  {
   "cell_type": "code",
   "execution_count": 64,
   "metadata": {
    "collapsed": true
   },
   "outputs": [],
   "source": [
    "from bs4 import BeautifulSoup\n",
    "from bs4 import Comment\n",
    "import urllib.request"
   ]
  },
  {
   "cell_type": "code",
   "execution_count": 65,
   "metadata": {},
   "outputs": [],
   "source": [
    "class FoodItem:\n",
    "    def __init__(self, name, price, description, menuGroup):\n",
    "        self.name = name\n",
    "        self.price = price\n",
    "        self.description = description\n",
    "        self.menuGroup = menuGroup\n",
    "\n",
    "    def debugPrint(self):\n",
    "        print(self.name,' \\tCOST ',self.price, '\\n',self.description,'\\n', self.menuGroup)\n",
    "        print(' ---- ')"
   ]
  },
  {
   "cell_type": "code",
   "execution_count": 66,
   "metadata": {
    "collapsed": true
   },
   "outputs": [],
   "source": [
    "def loadInitialMenu(restaurantName):\n",
    "    restaurantName = '+'.join(restaurantName.split())\n",
    "    searchQuery = restaurantName + \"+\" + \"menu\"\n",
    "    url = \"https://www.bing.com/search?q=\" + searchQuery\n",
    "    response = urllib.request.urlopen(url)\n",
    "    return response.read()"
   ]
  },
  {
   "cell_type": "code",
   "execution_count": 67,
   "metadata": {},
   "outputs": [],
   "source": [
    "def parseInitialMenu(html):\n",
    "    soup = BeautifulSoup(html, 'html.parser')\n",
    "    # data we need is all in div with class \"b_ans b_top b_topborder\"\n",
    "    menuHtml = soup.find(\"li\", class_=\"b_ans b_top b_topborder\")\n",
    "\n",
    "    if menuHtml is None:\n",
    "        exit()\n",
    "    return menuHtml.find(\"div\", class_=\"tab-container\")\n",
    "\n",
    "def parseMenuGroups(menuHtml):\n",
    "    menuHeaders = menuHtml.find(\"div\", class_=\"tab-head\")\n",
    "    menuHeaders = menuHeaders.find(\"div\", class_=\"tab-menu tab-hasnav\")\n",
    "    menuHeaders = menuHeaders.find_all('li')\n",
    "    return [item.text for item in menuHeaders]\n",
    "\n",
    "menu = {}\n",
    "def parseMenuItems(menuHtml,menuHeaders,isInitial):\n",
    "    if isInitial:\n",
    "        startIndex = 0\n",
    "        menuContent  = menuHtml.find(\"div\", class_=\"tab-content\")\n",
    "        menuContent = menuContent.select('div[id^=\"tab_\"]')\n",
    "    else:\n",
    "        startIndex = 6\n",
    "        menuContent = menuHtml.select('div[id^=\"rcontent_\"]')\n",
    "\n",
    "    for i in range(startIndex,len(menuContent)):\n",
    "    # for i in range(0,3):\n",
    "        groupedItems = menuContent[i]\n",
    "        groupedItemsHtml = groupedItems.find_all('div',class_='tdif')\n",
    "        menuGroup = menuHeaders[i]\n",
    "        for item in groupedItemsHtml:\n",
    "            (name,price) = getItemNamePrice(item)\n",
    "            description = getItemDesc(item)\n",
    "\n",
    "            if name not in menu:\n",
    "                # notice how menuGroup parameter is a list\n",
    "                foodItem = FoodItem(name,price,description,[menuGroup])\n",
    "                menu[name] = foodItem\n",
    "            else:\n",
    "                foodItem = menu[name]\n",
    "                if menuGroup not in foodItem.menuGroup:\n",
    "                    foodItem.menuGroup.append(menuGroup)"
   ]
  },
  {
   "cell_type": "code",
   "execution_count": 68,
   "metadata": {},
   "outputs": [],
   "source": [
    "def getRestaurantId(html):\n",
    "    soup = BeautifulSoup(html, 'html.parser')\n",
    "    comments=soup.find_all(string=lambda text:isinstance(text,Comment))\n",
    "    for c in comments:\n",
    "        if 'tabCount' in c:\n",
    "            x = c.split('tabCount')\n",
    "            if len(x) <= 1:\n",
    "                break\n",
    "            x = x[1].split(',')\n",
    "            x = x[-1].split('\"')\n",
    "            print(x[1])\n",
    "            return x[1]\n",
    "    return ''\n",
    "\n",
    "\n",
    "def getTabCount(menuHeaders):\n",
    "    return len(menuHeaders)\n",
    "\n",
    "def loadAdditionalMenu(html):\n",
    "    restid = getRestaurantId(html)\n",
    "    if restid  is '':\n",
    "        return\n",
    "    tabCount = getTabCount(html)\n",
    "    url = 'https://www.bing.com/local/menu?tabCount=' + str(tabCount) \\\n",
    "          + '&tabStart=6&othersTab=0&ypid='+ restid\n",
    "    response = urllib.request.urlopen(url)\n",
    "    return response.read()\n",
    "\n",
    "def parseAdditionalMenu(html,menuHeaders):\n",
    "    additionalHtml = loadAdditionalMenu(html)\n",
    "    if additionalHtml is None:\n",
    "        return\n",
    "    soup = BeautifulSoup(additionalHtml, 'html.parser')\n",
    "    parseMenuItems(soup,menuHeaders,isInitial=False)"
   ]
  },
  {
   "cell_type": "code",
   "execution_count": 69,
   "metadata": {},
   "outputs": [],
   "source": [
    "def getItemNamePrice(item):\n",
    "    itemName = ''\n",
    "    itemPrice = ''\n",
    "    h4 = item.find('h4')\n",
    "    if h4:\n",
    "        if len(h4.contents) > 0:\n",
    "            itemName = h4.contents[0]\n",
    "        if len(h4.contents) > 1:\n",
    "            itemPrice = h4.contents[1].contents[0]\n",
    "    return itemName, itemPrice\n",
    "\n",
    "def getItemDesc(item):\n",
    "    itemDescription = ''\n",
    "    span = item.find('span',class_='b_demoteText')\n",
    "\n",
    "    if span and len(span.contents) > 0:\n",
    "        itemDescription = span.contents[0]\n",
    "    return itemDescription"
   ]
  },
  {
   "cell_type": "code",
   "execution_count": 101,
   "metadata": {
    "collapsed": true
   },
   "outputs": [],
   "source": [
    "menu = {}\n",
    "html = loadInitialMenu('il Tramezzino menu')"
   ]
  },
  {
   "cell_type": "code",
   "execution_count": 102,
   "metadata": {},
   "outputs": [],
   "source": [
    "menuHtml = parseInitialMenu(html)\n",
    "menuHeaders = parseMenuGroups(menuHtml)\n",
    "parseMenuItems(menuHtml, menuHeaders, isInitial=True)"
   ]
  },
  {
   "cell_type": "code",
   "execution_count": 104,
   "metadata": {
    "collapsed": false
   },
   "outputs": [
    {
     "name": "stdout",
     "output_type": "stream",
     "text": [
      "YN873x130996673\n"
     ]
    }
   ],
   "source": [
    "parseAdditionalMenu(html,menuHeaders)"
   ]
  },
  {
   "cell_type": "code",
   "execution_count": 107,
   "metadata": {
    "collapsed": false
   },
   "outputs": [],
   "source": [
    "# for item in menu:\n",
    "#     print(menu[item].debugPrint())"
   ]
  },
  {
   "cell_type": "code",
   "execution_count": 493,
   "metadata": {
    "collapsed": true
   },
   "outputs": [],
   "source": [
    ""
   ]
  }
 ],
 "metadata": {
  "kernelspec": {
   "display_name": "Python 2",
   "language": "python",
   "name": "python2"
  },
  "language_info": {
   "codemirror_mode": {
    "name": "ipython",
    "version": 2.0
   },
   "file_extension": ".py",
   "mimetype": "text/x-python",
   "name": "python",
   "nbconvert_exporter": "python",
   "pygments_lexer": "ipython2",
   "version": "2.7.6"
  }
 },
 "nbformat": 4,
 "nbformat_minor": 0
}